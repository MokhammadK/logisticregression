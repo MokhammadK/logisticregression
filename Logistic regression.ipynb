{
 "cells": [
  {
   "cell_type": "code",
   "execution_count": 33,
   "id": "78f2f9d2",
   "metadata": {},
   "outputs": [],
   "source": [
    "import pandas as pd\n",
    "from sklearn.model_selection import train_test_split\n",
    "from sklearn.linear_model import LogisticRegression\n",
    "from sklearn.preprocessing import LabelEncoder\n",
    "from sklearn.metrics import confusion_matrix, classification_report, roc_auc_score, roc_curve\n",
    "import matplotlib.pyplot as plt"
   ]
  },
  {
   "cell_type": "code",
   "execution_count": 34,
   "id": "9d591450",
   "metadata": {},
   "outputs": [],
   "source": [
    "banking = pd.read_csv(\"C:\\\\Users\\\\Bruger\\\\Downloads\\\\banking.csv\")"
   ]
  },
  {
   "cell_type": "code",
   "execution_count": 35,
   "id": "6624d29d",
   "metadata": {},
   "outputs": [
    {
     "name": "stdout",
     "output_type": "stream",
     "text": [
      "       age          job  marital            education  default housing loan  \\\n",
      "0       44  blue-collar  married             basic.4y  unknown     yes   no   \n",
      "1       53   technician  married              unknown       no      no   no   \n",
      "2       28   management   single    university.degree       no     yes   no   \n",
      "3       39     services  married          high.school       no      no   no   \n",
      "4       55      retired  married             basic.4y       no     yes   no   \n",
      "...    ...          ...      ...                  ...      ...     ...  ...   \n",
      "41183   59      retired  married          high.school  unknown      no  yes   \n",
      "41184   31    housemaid  married             basic.4y  unknown      no   no   \n",
      "41185   42       admin.   single    university.degree  unknown     yes  yes   \n",
      "41186   48   technician  married  professional.course       no      no  yes   \n",
      "41187   25      student   single          high.school       no      no   no   \n",
      "\n",
      "         contact month day_of_week  ...  campaign  pdays  previous  \\\n",
      "0       cellular   aug         thu  ...         1    999         0   \n",
      "1       cellular   nov         fri  ...         1    999         0   \n",
      "2       cellular   jun         thu  ...         3      6         2   \n",
      "3       cellular   apr         fri  ...         2    999         0   \n",
      "4       cellular   aug         fri  ...         1      3         1   \n",
      "...          ...   ...         ...  ...       ...    ...       ...   \n",
      "41183  telephone   jun         thu  ...         1    999         0   \n",
      "41184  telephone   may         thu  ...         2    999         0   \n",
      "41185  telephone   may         wed  ...         3    999         0   \n",
      "41186  telephone   oct         tue  ...         2    999         0   \n",
      "41187  telephone   may         fri  ...         4    999         0   \n",
      "\n",
      "          poutcome emp_var_rate  cons_price_idx  cons_conf_idx  euribor3m  \\\n",
      "0      nonexistent          1.4          93.444          -36.1      4.963   \n",
      "1      nonexistent         -0.1          93.200          -42.0      4.021   \n",
      "2          success         -1.7          94.055          -39.8      0.729   \n",
      "3      nonexistent         -1.8          93.075          -47.1      1.405   \n",
      "4          success         -2.9          92.201          -31.4      0.869   \n",
      "...            ...          ...             ...            ...        ...   \n",
      "41183  nonexistent          1.4          94.465          -41.8      4.866   \n",
      "41184  nonexistent          1.1          93.994          -36.4      4.860   \n",
      "41185  nonexistent          1.1          93.994          -36.4      4.857   \n",
      "41186  nonexistent         -3.4          92.431          -26.9      0.742   \n",
      "41187  nonexistent          1.1          93.994          -36.4      4.859   \n",
      "\n",
      "       nr_employed  y  \n",
      "0           5228.1  0  \n",
      "1           5195.8  0  \n",
      "2           4991.6  1  \n",
      "3           5099.1  0  \n",
      "4           5076.2  1  \n",
      "...            ... ..  \n",
      "41183       5228.1  0  \n",
      "41184       5191.0  0  \n",
      "41185       5191.0  0  \n",
      "41186       5017.5  0  \n",
      "41187       5191.0  0  \n",
      "\n",
      "[41188 rows x 21 columns]\n"
     ]
    }
   ],
   "source": [
    "print(banking)"
   ]
  },
  {
   "cell_type": "code",
   "execution_count": 36,
   "id": "1ffc5254",
   "metadata": {},
   "outputs": [
    {
     "name": "stdout",
     "output_type": "stream",
     "text": [
      "Розмір тренувального датасету: (28831, 20)\n",
      "Розмір тестового датасету: (12357, 20)\n"
     ]
    }
   ],
   "source": [
    "X = banking.drop(columns=['y'])\n",
    "y = banking['y']\n",
    "\n",
    "X_train, X_test, y_train, y_test = train_test_split(X, y, test_size=0.3, random_state=42)\n",
    "\n",
    "print(\"Розмір тренувального датасету:\", X_train.shape)\n",
    "print(\"Розмір тестового датасету:\", X_test.shape)"
   ]
  },
  {
   "cell_type": "code",
   "execution_count": 37,
   "id": "3e792597",
   "metadata": {},
   "outputs": [],
   "source": [
    "encoder = LabelEncoder()\n",
    "categorical_features = features.select_dtypes(include=['object']).columns\n",
    "for column in categorical_features:\n",
    "    features[column] = encoder.fit_transform(features[column])\n",
    "\n",
    "X_train, X_test, y_train, y_test = train_test_split(features, target, test_size=0.3, random_state=42)\n",
    "\n",
    "logreg = LogisticRegression(max_iter=3000)\n",
    "logreg.fit(X_train, y_train)\n",
    "\n",
    "y_pred = logreg.predict(X_test)"
   ]
  },
  {
   "cell_type": "code",
   "execution_count": 38,
   "id": "1fc452bc",
   "metadata": {},
   "outputs": [
    {
     "name": "stdout",
     "output_type": "stream",
     "text": [
      "Equation:  y = 0.00 + 0.00 * age + 0.01 * job + 0.10 * marital + 0.04 * education + -0.49 * default + -0.01 * housing + -0.04 * loan + -0.83 * contact + -0.10 * month + 0.08 * day_of_week + 0.00 * duration + -0.05 * campaign + -0.00 * pdays + -0.11 * previous + 0.47 * poutcome + -0.67 * emp_var_rate + 0.58 * cons_price_idx + 0.03 * cons_conf_idx + 0.36 * euribor3m + -0.01 * nr_employed\n"
     ]
    }
   ],
   "source": [
    "coefficients = logreg.coef_[0]\n",
    "intercept = logreg.intercept_[0]\n",
    "\n",
    "equation = f\"y = {intercept:.2f}\"\n",
    "\n",
    "for feature, coefficient in zip(features.columns, coefficients):\n",
    "    equation += f\" + {coefficient:.2f} * {feature}\"\n",
    "\n",
    "print(\"Equation: \", equation)"
   ]
  },
  {
   "cell_type": "code",
   "execution_count": 45,
   "id": "d9bbeb14",
   "metadata": {},
   "outputs": [
    {
     "name": "stdout",
     "output_type": "stream",
     "text": [
      "Confusion Matrix:\n",
      " [[10600   331]\n",
      " [  831   595]]\n",
      "Classification Report:\n",
      "               precision    recall  f1-score   support\n",
      "\n",
      "           0       0.93      0.97      0.95     10931\n",
      "           1       0.64      0.42      0.51      1426\n",
      "\n",
      "    accuracy                           0.91     12357\n",
      "   macro avg       0.78      0.69      0.73     12357\n",
      "weighted avg       0.89      0.91      0.90     12357\n",
      "\n",
      "AUC-ROC Score: 0.9232594152046184\n"
     ]
    }
   ],
   "source": [
    "confusion = confusion_matrix(y_test, y_pred)\n",
    "print(\"Confusion Matrix:\\n\", confusion)\n",
    "\n",
    "report = classification_report(y_test, y_pred)\n",
    "print(\"Classification Report:\\n\", report)\n",
    "\n",
    "auc_roc = roc_auc_score(y_test, logreg.predict_proba(X_test)[:, 1])\n",
    "print(\"AUC-ROC Score:\", auc_roc)\n",
    "\n",
    "fpr, tpr, thresholds = roc_curve(y_test, logreg.predict_proba(X_test)[:, 1])"
   ]
  },
  {
   "cell_type": "code",
   "execution_count": 40,
   "id": "65c308cd",
   "metadata": {},
   "outputs": [
    {
     "data": {
      "image/png": "[encoded data removed]",
      "text/plain": [
       "<Figure size 640x480 with 1 Axes>"
      ]
     },
     "metadata": {},
     "output_type": "display_data"
    }
   ],
   "source": [
    "plt.figure()\n",
    "plt.plot(fpr, tpr, label='Logistic Regression (AUC = {:.2f})'.format(auc_roc))\n",
    "plt.plot([0, 1], [0, 1], 'k--')\n",
    "plt.xlabel('False Positive Rate')\n",
    "plt.ylabel('True Positive Rate')\n",
    "plt.title('ROC Curve')\n",
    "plt.legend(loc='lower right')\n",
    "plt.show()"
   ]
  },
  {
   "cell_type": "code",
   "execution_count": 47,
   "id": "f9d1824d",
   "metadata": {},
   "outputs": [],
   "source": [
    "# Модель має високу точність у визначенні тих клієнтів, які не відкриють вклад (true negatives).\n",
    "# Модель має помірну точність у визначенні клієнтів, які відкривають вклад (true positives), а також помилково класифікує деяких клієнтів як тих, що відкривають вклад (false positives).\n",
    "# Модель помилково пропускає деяких клієнтів, які справді відкривають вклад (false negatives).\n",
    "\n",
    "# Загалом, модель показує добрі результати для класу 0, але виявляється менш ефективною для класу 1. Варто провести подальшу настройку моделі або використовувати інші алгоритми для покращення прогнозування класу 1.\n",
    "\n",
    "# AUC-ROC Score дорівнює 0.9233. Це значення AUC-ROC свідчить про те, що модель має добру здатність правильно впорядковувати позитивні та негативні приклади. Модель має досить високу якість у впорядкуванні прикладів.\n",
    "\n",
    "# Модель може бути корисною для прогнозування клієнтів, які не відкриють вклад у банку, з високою точністю та чутливістю. "
   ]
  }
 ],
 "metadata": {
  "kernelspec": {
   "display_name": "Python 3 (ipykernel)",
   "language": "python",
   "name": "python3"
  },
  "language_info": {
   "codemirror_mode": {
    "name": "ipython",
    "version": 3
   },
   "file_extension": ".py",
   "mimetype": "text/x-python",
   "name": "python",
   "nbconvert_exporter": "python",
   "pygments_lexer": "ipython3",
   "version": "3.9.13"
  }
 },
 "nbformat": 4,
 "nbformat_minor": 5
}
